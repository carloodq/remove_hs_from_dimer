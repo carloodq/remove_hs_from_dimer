{
 "cells": [
  {
   "cell_type": "code",
   "execution_count": 1,
   "metadata": {},
   "outputs": [],
   "source": [
    "import pandas as pd\n",
    "from extract_xyz import extract_xyz\n",
    "import os\n",
    "from rdkit import Chem\n",
    "from rdkit.Chem import rdDetermineBonds\n",
    "df = pd.read_csv(\"Donchev et al DES370K.csv\")\n",
    "extract_xyz(df.head(200))"
   ]
  },
  {
   "cell_type": "code",
   "execution_count": 6,
   "metadata": {},
   "outputs": [
    {
     "name": "stdout",
     "output_type": "stream",
     "text": [
      "0\n",
      "1\n",
      "2\n",
      "3\n",
      "4\n",
      "5\n",
      "6\n",
      "7\n",
      "8\n",
      "9\n",
      "10\n",
      "11\n",
      "12\n",
      "13\n",
      "14\n",
      "15\n",
      "16\n",
      "17\n",
      "18\n",
      "19\n",
      "20\n",
      "21\n",
      "22\n",
      "23\n",
      "24\n",
      "25\n",
      "26\n",
      "27\n",
      "28\n",
      "29\n",
      "30\n",
      "31\n",
      "32\n",
      "33\n",
      "34\n",
      "35\n",
      "36\n",
      "37\n",
      "38\n",
      "39\n",
      "40\n",
      "41\n",
      "42\n",
      "43\n",
      "44\n",
      "45\n",
      "46\n",
      "47\n",
      "48\n",
      "49\n",
      "50\n",
      "51\n",
      "52\n",
      "53\n"
     ]
    }
   ],
   "source": [
    "for c in range(len(df.columns)):\n",
    "    print(c)"
   ]
  },
  {
   "cell_type": "code",
   "execution_count": 113,
   "metadata": {},
   "outputs": [
    {
     "data": {
      "text/plain": [
       "smiles0                 356\n",
       "smiles1                 215\n",
       "charge0                   4\n",
       "charge1                   4\n",
       "natoms0                  22\n",
       "natoms1                  20\n",
       "system_id              3691\n",
       "group_orig                4\n",
       "group_id              12669\n",
       "k_index                 237\n",
       "geom_id              370959\n",
       "cc_basis                  4\n",
       "cc_HF                284368\n",
       "cc_MP2_os            187230\n",
       "cc_MP2_ss            185199\n",
       "cc_CCSD_os           167808\n",
       "cc_CCSD_ss           181314\n",
       "cc_(T)               111859\n",
       "cc_[T]               119545\n",
       "cc_MP2_all           282988\n",
       "cc_CCSD(T)_all       281724\n",
       "cc_delta_CCSD(T)      98509\n",
       "qz_HF                284008\n",
       "qz_MP2_os            195028\n",
       "qz_MP2_ss            188826\n",
       "qz_MP2_all           284718\n",
       "tz_HF                284131\n",
       "tz_MP2_os            192538\n",
       "tz_MP2_ss            187809\n",
       "tz_MP2_all           283609\n",
       "cbs_MP2_os           197020\n",
       "cbs_MP2_ss           189972\n",
       "cbs_MP2_all          284611\n",
       "cbs_CCSD(T)_all      283638\n",
       "espx_HF_es           268584\n",
       "espx_HF_hl           281102\n",
       "espx_HF_ovl           43790\n",
       "espx_MP2_es          266110\n",
       "espx_MP2_ovl          45010\n",
       "sapt_es              260316\n",
       "sapt_ex              205918\n",
       "sapt_exs2            206079\n",
       "sapt_ind             171877\n",
       "sapt_exind           131157\n",
       "sapt_disp            222744\n",
       "sapt_exdisp_os        71796\n",
       "sapt_exdisp_ss        83719\n",
       "sapt_delta_HF        138462\n",
       "sapt_all             271556\n",
       "nn_CCSD(T)_all       260805\n",
       "nn_CCSD(T)_all_05    261889\n",
       "nn_CCSD(T)_all_95    260139\n",
       "xyz                  370532\n",
       "elements               3521\n",
       "dtype: int64"
      ]
     },
     "execution_count": 113,
     "metadata": {},
     "output_type": "execute_result"
    }
   ],
   "source": [
    "df.nunique()"
   ]
  },
  {
   "cell_type": "code",
   "execution_count": 111,
   "metadata": {},
   "outputs": [
    {
     "data": {
      "text/html": [
       "<div>\n",
       "<style scoped>\n",
       "    .dataframe tbody tr th:only-of-type {\n",
       "        vertical-align: middle;\n",
       "    }\n",
       "\n",
       "    .dataframe tbody tr th {\n",
       "        vertical-align: top;\n",
       "    }\n",
       "\n",
       "    .dataframe thead th {\n",
       "        text-align: right;\n",
       "    }\n",
       "</style>\n",
       "<table border=\"1\" class=\"dataframe\">\n",
       "  <thead>\n",
       "    <tr style=\"text-align: right;\">\n",
       "      <th></th>\n",
       "      <th>smiles0</th>\n",
       "      <th>smiles1</th>\n",
       "      <th>charge0</th>\n",
       "      <th>charge1</th>\n",
       "      <th>natoms0</th>\n",
       "      <th>natoms1</th>\n",
       "      <th>system_id</th>\n",
       "      <th>group_orig</th>\n",
       "      <th>group_id</th>\n",
       "      <th>k_index</th>\n",
       "      <th>...</th>\n",
       "      <th>sapt_disp</th>\n",
       "      <th>sapt_exdisp_os</th>\n",
       "      <th>sapt_exdisp_ss</th>\n",
       "      <th>sapt_delta_HF</th>\n",
       "      <th>sapt_all</th>\n",
       "      <th>nn_CCSD(T)_all</th>\n",
       "      <th>nn_CCSD(T)_all_05</th>\n",
       "      <th>nn_CCSD(T)_all_95</th>\n",
       "      <th>xyz</th>\n",
       "      <th>elements</th>\n",
       "    </tr>\n",
       "  </thead>\n",
       "  <tbody>\n",
       "    <tr>\n",
       "      <th>0</th>\n",
       "      <td>O=CN(C)C</td>\n",
       "      <td>c1ccccc1</td>\n",
       "      <td>0</td>\n",
       "      <td>0</td>\n",
       "      <td>12</td>\n",
       "      <td>12</td>\n",
       "      <td>15948</td>\n",
       "      <td>qm_opt_dimer</td>\n",
       "      <td>1316474</td>\n",
       "      <td>-8</td>\n",
       "      <td>...</td>\n",
       "      <td>-37.15673</td>\n",
       "      <td>2.90003</td>\n",
       "      <td>4.28260</td>\n",
       "      <td>-8.26598</td>\n",
       "      <td>16.54322</td>\n",
       "      <td>21.51197</td>\n",
       "      <td>19.75058</td>\n",
       "      <td>22.52496</td>\n",
       "      <td>0.84166 -0.82674 0.4918 1.44358 -0.50149 1.505...</td>\n",
       "      <td>O C N C C H H H H H H H C C C C C C H H H H H H</td>\n",
       "    </tr>\n",
       "    <tr>\n",
       "      <th>1</th>\n",
       "      <td>O=CN(C)C</td>\n",
       "      <td>c1ccccc1</td>\n",
       "      <td>0</td>\n",
       "      <td>0</td>\n",
       "      <td>12</td>\n",
       "      <td>12</td>\n",
       "      <td>15948</td>\n",
       "      <td>qm_opt_dimer</td>\n",
       "      <td>1316474</td>\n",
       "      <td>-7</td>\n",
       "      <td>...</td>\n",
       "      <td>-31.54612</td>\n",
       "      <td>2.32624</td>\n",
       "      <td>3.44818</td>\n",
       "      <td>-7.14461</td>\n",
       "      <td>9.11227</td>\n",
       "      <td>13.47013</td>\n",
       "      <td>11.21334</td>\n",
       "      <td>14.27003</td>\n",
       "      <td>0.84166 -0.82674 0.4918 1.44358 -0.50149 1.505...</td>\n",
       "      <td>O C N C C H H H H H H H C C C C C C H H H H H H</td>\n",
       "    </tr>\n",
       "    <tr>\n",
       "      <th>2</th>\n",
       "      <td>O=CN(C)C</td>\n",
       "      <td>c1ccccc1</td>\n",
       "      <td>0</td>\n",
       "      <td>0</td>\n",
       "      <td>12</td>\n",
       "      <td>12</td>\n",
       "      <td>15948</td>\n",
       "      <td>qm_opt_dimer</td>\n",
       "      <td>1316474</td>\n",
       "      <td>-6</td>\n",
       "      <td>...</td>\n",
       "      <td>-26.81397</td>\n",
       "      <td>1.85474</td>\n",
       "      <td>2.76024</td>\n",
       "      <td>-5.93487</td>\n",
       "      <td>3.76192</td>\n",
       "      <td>7.63008</td>\n",
       "      <td>6.45529</td>\n",
       "      <td>8.37255</td>\n",
       "      <td>0.84166 -0.82674 0.4918 1.44358 -0.50149 1.505...</td>\n",
       "      <td>O C N C C H H H H H H H C C C C C C H H H H H H</td>\n",
       "    </tr>\n",
       "    <tr>\n",
       "      <th>3</th>\n",
       "      <td>O=CN(C)C</td>\n",
       "      <td>c1ccccc1</td>\n",
       "      <td>0</td>\n",
       "      <td>0</td>\n",
       "      <td>12</td>\n",
       "      <td>12</td>\n",
       "      <td>15948</td>\n",
       "      <td>qm_opt_dimer</td>\n",
       "      <td>1316474</td>\n",
       "      <td>-5</td>\n",
       "      <td>...</td>\n",
       "      <td>-22.82272</td>\n",
       "      <td>1.47025</td>\n",
       "      <td>2.19842</td>\n",
       "      <td>-4.77504</td>\n",
       "      <td>-0.00190</td>\n",
       "      <td>2.90708</td>\n",
       "      <td>2.19545</td>\n",
       "      <td>3.54741</td>\n",
       "      <td>0.84166 -0.82674 0.4918 1.44358 -0.50149 1.505...</td>\n",
       "      <td>O C N C C H H H H H H H C C C C C C H H H H H H</td>\n",
       "    </tr>\n",
       "    <tr>\n",
       "      <th>4</th>\n",
       "      <td>O=CN(C)C</td>\n",
       "      <td>c1ccccc1</td>\n",
       "      <td>0</td>\n",
       "      <td>0</td>\n",
       "      <td>12</td>\n",
       "      <td>12</td>\n",
       "      <td>15948</td>\n",
       "      <td>qm_opt_dimer</td>\n",
       "      <td>1316474</td>\n",
       "      <td>-4</td>\n",
       "      <td>...</td>\n",
       "      <td>-19.45514</td>\n",
       "      <td>1.15898</td>\n",
       "      <td>1.74336</td>\n",
       "      <td>-3.73934</td>\n",
       "      <td>-2.57027</td>\n",
       "      <td>0.25278</td>\n",
       "      <td>-0.61683</td>\n",
       "      <td>0.84849</td>\n",
       "      <td>0.84166 -0.82674 0.4918 1.44358 -0.50149 1.505...</td>\n",
       "      <td>O C N C C H H H H H H H C C C C C C H H H H H H</td>\n",
       "    </tr>\n",
       "  </tbody>\n",
       "</table>\n",
       "<p>5 rows × 54 columns</p>\n",
       "</div>"
      ],
      "text/plain": [
       "    smiles0   smiles1  charge0  charge1  natoms0  natoms1  system_id  \\\n",
       "0  O=CN(C)C  c1ccccc1        0        0       12       12      15948   \n",
       "1  O=CN(C)C  c1ccccc1        0        0       12       12      15948   \n",
       "2  O=CN(C)C  c1ccccc1        0        0       12       12      15948   \n",
       "3  O=CN(C)C  c1ccccc1        0        0       12       12      15948   \n",
       "4  O=CN(C)C  c1ccccc1        0        0       12       12      15948   \n",
       "\n",
       "     group_orig  group_id  k_index  ...  sapt_disp sapt_exdisp_os  \\\n",
       "0  qm_opt_dimer   1316474       -8  ...  -37.15673        2.90003   \n",
       "1  qm_opt_dimer   1316474       -7  ...  -31.54612        2.32624   \n",
       "2  qm_opt_dimer   1316474       -6  ...  -26.81397        1.85474   \n",
       "3  qm_opt_dimer   1316474       -5  ...  -22.82272        1.47025   \n",
       "4  qm_opt_dimer   1316474       -4  ...  -19.45514        1.15898   \n",
       "\n",
       "   sapt_exdisp_ss  sapt_delta_HF  sapt_all  nn_CCSD(T)_all  nn_CCSD(T)_all_05  \\\n",
       "0         4.28260       -8.26598  16.54322        21.51197           19.75058   \n",
       "1         3.44818       -7.14461   9.11227        13.47013           11.21334   \n",
       "2         2.76024       -5.93487   3.76192         7.63008            6.45529   \n",
       "3         2.19842       -4.77504  -0.00190         2.90708            2.19545   \n",
       "4         1.74336       -3.73934  -2.57027         0.25278           -0.61683   \n",
       "\n",
       "   nn_CCSD(T)_all_95                                                xyz  \\\n",
       "0           22.52496  0.84166 -0.82674 0.4918 1.44358 -0.50149 1.505...   \n",
       "1           14.27003  0.84166 -0.82674 0.4918 1.44358 -0.50149 1.505...   \n",
       "2            8.37255  0.84166 -0.82674 0.4918 1.44358 -0.50149 1.505...   \n",
       "3            3.54741  0.84166 -0.82674 0.4918 1.44358 -0.50149 1.505...   \n",
       "4            0.84849  0.84166 -0.82674 0.4918 1.44358 -0.50149 1.505...   \n",
       "\n",
       "                                          elements  \n",
       "0  O C N C C H H H H H H H C C C C C C H H H H H H  \n",
       "1  O C N C C H H H H H H H C C C C C C H H H H H H  \n",
       "2  O C N C C H H H H H H H C C C C C C H H H H H H  \n",
       "3  O C N C C H H H H H H H C C C C C C H H H H H H  \n",
       "4  O C N C C H H H H H H H C C C C C C H H H H H H  \n",
       "\n",
       "[5 rows x 54 columns]"
      ]
     },
     "execution_count": 111,
     "metadata": {},
     "output_type": "execute_result"
    }
   ],
   "source": [
    "df.head()"
   ]
  },
  {
   "cell_type": "code",
   "execution_count": 142,
   "metadata": {},
   "outputs": [],
   "source": [
    "def create_newxyzs(m, item):\n",
    "    ''' \n",
    "    it takes all the Hs that could be removed, it records the 1st connection and the neighbor's connections\n",
    "    takes as input a Mol RDkit object of a molecule, returns a list of broken xyzs with respective parameters\n",
    "    '''\n",
    "    newxyzs = []\n",
    "    for atom in m.GetAtoms():\n",
    "        if atom.GetSymbol() == 'H':\n",
    "            h = atom.GetIdx()\n",
    "            ns = atom.GetNeighbors()\n",
    "            if len(ns) > 1: # if not outside\n",
    "                continue\n",
    "            else:\n",
    "                for n in ns:\n",
    "                    if n.GetSymbol() in 'CNOPS':\n",
    "                        organic = n.GetIdx()\n",
    "                        neighbors =  [n.GetSymbol() for n in n.GetNeighbors()] \n",
    "                        # removing atom to create mol \n",
    "                        mw = Chem.RWMol(m)\n",
    "                        mw.RemoveAtom(h)\n",
    "                        xyz_reduced = Chem.MolToXYZBlock(mw)\n",
    "                        xyz = Chem.MolToXYZBlock(m)\n",
    "                        newxyzs.append([item , xyz, xyz_reduced , h , n.GetSymbol() , neighbors])\n",
    "    return newxyzs\n",
    "\n",
    "cwd = os.getcwd()\n",
    "items = os.listdir()\n",
    "all_xyz = []\n",
    "# iterates through all generated folders and process the first xyz\n",
    "for item in items:\n",
    "    if os.path.isdir(item) and item != '__pycache__':\n",
    "        all_xyzs = os.listdir(os.path.join(cwd, item, 'qm_opt_dimer'))\n",
    "        # path to the xyz file\n",
    "        xyzf = os.path.join(cwd, item, 'qm_opt_dimer', all_xyzs[0])\n",
    "        xyz = os.listdir(xyzf)\n",
    "        xyzp = os.path.join(cwd, item, 'qm_opt_dimer', all_xyzs[0], xyz[0])\n",
    "        # open the xyz and add the bonds\n",
    "        raw_mol = Chem.MolFromXYZFile(xyzp)\n",
    "        mol = Chem.Mol(raw_mol)\n",
    "        rdDetermineBonds.DetermineConnectivity(mol)\n",
    "        m = mol\n",
    "        newxyzs = create_newxyzs(m, item)  \n",
    "        all_xyz.extend(newxyzs)   \n",
    "\n",
    "all_xyz = pd.DataFrame(all_xyz, columns=['molecule_name', 'xyz','xyz_reduced', 'atom_index', 'attached_atom', 'neighboring_atoms'])\n",
    "# save it \n",
    "all_xyz.to_csv('all_xyz.csv')\n"
   ]
  },
  {
   "cell_type": "code",
   "execution_count": 2,
   "metadata": {},
   "outputs": [
    {
     "data": {
      "image/png": "[encoded data removed]",
      "text/plain": [
       "<rdkit.Chem.rdchem.Mol at 0x28ec6c806d0>"
      ]
     },
     "execution_count": 2,
     "metadata": {},
     "output_type": "execute_result"
    }
   ],
   "source": [
    "from rdkit import Chem\n",
    "from rdkit.Chem import rdDetermineBonds\n",
    "\n",
    "# open the xyz and add the bonds\n",
    "raw_mol = Chem.MolFromXYZFile(r\"C:\\Users\\carlo\\Dropbox\\big projects dropbox\\ml chem\\bde\\clean\\remove_hs_from_dimer\\bde_data\\CCCOC_c1ncc[nH]1\\qm_opt_dimer\\405228\\-1.xyz\")\n",
    "mol = Chem.Mol(raw_mol)\n",
    "rdDetermineBonds.DetermineConnectivity(mol)\n",
    "m = mol\n",
    "m\n"
   ]
  },
  {
   "cell_type": "code",
   "execution_count": 10,
   "metadata": {},
   "outputs": [
    {
     "name": "stdout",
     "output_type": "stream",
     "text": [
      "<rdkit.Chem.rdchem.Mol object at 0x0000028EC716B7B0> 0 C\n",
      "<rdkit.Chem.rdchem.Mol object at 0x0000028EC716B900> 1 C\n",
      "<rdkit.Chem.rdchem.Mol object at 0x0000028EC716B7B0> 2 C\n",
      "<rdkit.Chem.rdchem.Mol object at 0x0000028EC716B900> 3 O\n",
      "<rdkit.Chem.rdchem.Mol object at 0x0000028EC716B7B0> 4 C\n",
      "<rdkit.Chem.rdchem.Mol object at 0x0000028EC716B900> 5 H\n",
      "<rdkit.Chem.rdchem.Mol object at 0x0000028EC716B7B0> 6 H\n",
      "<rdkit.Chem.rdchem.Mol object at 0x0000028EC716B900> 7 H\n",
      "<rdkit.Chem.rdchem.Mol object at 0x0000028EC716B7B0> 8 H\n",
      "<rdkit.Chem.rdchem.Mol object at 0x0000028EC716B900> 9 H\n",
      "<rdkit.Chem.rdchem.Mol object at 0x0000028EC716B7B0> 10 H\n",
      "<rdkit.Chem.rdchem.Mol object at 0x0000028EC716B900> 11 H\n",
      "<rdkit.Chem.rdchem.Mol object at 0x0000028EC716B7B0> 12 H\n",
      "<rdkit.Chem.rdchem.Mol object at 0x0000028EC716B900> 13 H\n",
      "<rdkit.Chem.rdchem.Mol object at 0x0000028EC716B7B0> 14 H\n",
      "<rdkit.Chem.rdchem.Mol object at 0x0000028EC716B900> 15 C\n",
      "<rdkit.Chem.rdchem.Mol object at 0x0000028EC716B7B0> 16 N\n",
      "<rdkit.Chem.rdchem.Mol object at 0x0000028EC716B900> 17 C\n",
      "<rdkit.Chem.rdchem.Mol object at 0x0000028EC716B7B0> 18 C\n",
      "<rdkit.Chem.rdchem.Mol object at 0x0000028EC716B900> 19 N\n",
      "<rdkit.Chem.rdchem.Mol object at 0x0000028EC716B7B0> 20 H\n",
      "<rdkit.Chem.rdchem.Mol object at 0x0000028EC716B900> 21 H\n",
      "<rdkit.Chem.rdchem.Mol object at 0x0000028EC716B7B0> 22 H\n",
      "<rdkit.Chem.rdchem.Mol object at 0x0000028EC716B900> 23 H\n"
     ]
    }
   ],
   "source": [
    "for atom in m.GetAtoms():\n",
    "    print(atom.GetOwningMol(), atom.GetIdx(), atom.GetSymbol())\n"
   ]
  },
  {
   "cell_type": "code",
   "execution_count": null,
   "metadata": {},
   "outputs": [],
   "source": []
  },
  {
   "cell_type": "code",
   "execution_count": 141,
   "metadata": {},
   "outputs": [],
   "source": [
    "Draw.MolToFile(m, 'whole.png')"
   ]
  },
  {
   "cell_type": "code",
   "execution_count": 140,
   "metadata": {},
   "outputs": [],
   "source": [
    "from rdkit.Chem import Draw\n",
    "\n",
    "for atom in m.GetAtoms():\n",
    "    if atom.GetSymbol() == 'H':\n",
    "        h = atom.GetIdx()\n",
    "        ns = atom.GetNeighbors()\n",
    "        if len(ns) > 1: # if not outside\n",
    "            continue\n",
    "        else:\n",
    "            for n in ns:\n",
    "                if n.GetSymbol() in 'CNOPS':\n",
    "                    organic = n.GetIdx()\n",
    "                    neighbors =  [n.GetSymbol() for n in n.GetNeighbors()] \n",
    "                    # removing atom to create mol \n",
    "                    mw = Chem.RWMol(m)\n",
    "                    mw.RemoveAtom(h)\n",
    "                    Draw.MolToFile(mw, f'{organic}.png')  \n",
    "\n",
    "                    "
   ]
  },
  {
   "cell_type": "code",
   "execution_count": 132,
   "metadata": {},
   "outputs": [
    {
     "data": {
      "image/png": "[encoded data removed]",
      "text/plain": [
       "<rdkit.Chem.rdchem.RWMol at 0x1d2c1abe680>"
      ]
     },
     "execution_count": 132,
     "metadata": {},
     "output_type": "execute_result"
    }
   ],
   "source": [
    "mw"
   ]
  },
  {
   "cell_type": "code",
   "execution_count": 38,
   "metadata": {},
   "outputs": [
    {
     "name": "stdout",
     "output_type": "stream",
     "text": [
      "23\n",
      "O=CN(C)C, c1ccccc1, qm_opt_dimer, -4, 15948, 1316474, 34663397\n",
      "O      0.841700   -0.826700    0.491800\n",
      "C      1.443600   -0.501500    1.505500\n",
      "N      1.034800    0.430700    2.407200\n",
      "C      1.815300    0.748500    3.580800\n",
      "C     -0.210900    1.140000    2.216900\n",
      "H      2.104600    1.812900    3.581200\n",
      "H      1.242400    0.539300    4.499800\n",
      "H      2.731800    0.134900    3.590200\n",
      "H     -0.684300    0.788000    1.284900\n",
      "H     -0.903600    0.955000    3.055000\n",
      "H     -0.039000    2.226500    2.135700\n",
      "C      2.908900    3.876300    2.383900\n",
      "C      2.044100    3.397500    1.399100\n",
      "C      2.358300    2.230100    0.702300\n",
      "C      3.537300    1.541500    0.990300\n",
      "C      4.402100    2.020300    1.975200\n",
      "C      4.087900    3.187700    2.672000\n",
      "H      2.661700    4.794900    2.932200\n",
      "H      1.116400    3.939300    1.172400\n",
      "H      1.677800    1.853300   -0.072700\n",
      "H      3.784500    0.622900    0.442000\n",
      "H      5.329800    1.478500    2.201900\n",
      "H      4.768400    3.564500    3.447000\n",
      "\n"
     ]
    },
    {
     "ename": "",
     "evalue": "",
     "output_type": "error",
     "traceback": [
      "\u001b[1;31mThe Kernel crashed while executing code in the the current cell or a previous cell. Please review the code in the cell(s) to identify a possible cause of the failure. Click <a href='https://aka.ms/vscodeJupyterKernelCrash'>here</a> for more info. View Jupyter <a href='command:jupyter.viewOutput'>log</a> for further details."
     ]
    }
   ],
   "source": [
    "print(Chem.MolToXYZBlock(mw))"
   ]
  },
  {
   "cell_type": "code",
   "execution_count": 13,
   "metadata": {},
   "outputs": [
    {
     "name": "stdout",
     "output_type": "stream",
     "text": [
      "O=CN(C)C, c1ccccc1, qm_opt_dimer, -4, 15948, 1316474, 34663397\n",
      "     RDKit          3D\n",
      "\n",
      " 23 22  0  0  0  0  0  0  0  0999 V2000\n",
      "    0.8417   -0.8267    0.4918 O   0  0  0  0  0  0  0  0  0  0  0  0\n",
      "    1.4436   -0.5015    1.5055 C   0  0  0  0  0  0  0  0  0  0  0  0\n",
      "    1.0348    0.4307    2.4072 N   0  0  0  0  0  0  0  0  0  0  0  0\n",
      "    1.8153    0.7485    3.5808 C   0  0  0  0  0  0  0  0  0  0  0  0\n",
      "   -0.2109    1.1400    2.2169 C   0  0  0  0  0  0  0  0  0  0  0  0\n",
      "    2.1046    1.8129    3.5812 H   0  0  0  0  0  0  0  0  0  0  0  0\n",
      "    1.2424    0.5393    4.4998 H   0  0  0  0  0  0  0  0  0  0  0  0\n",
      "    2.7318    0.1349    3.5902 H   0  0  0  0  0  0  0  0  0  0  0  0\n",
      "   -0.6843    0.7880    1.2849 H   0  0  0  0  0  0  0  0  0  0  0  0\n",
      "   -0.9036    0.9550    3.0550 H   0  0  0  0  0  0  0  0  0  0  0  0\n",
      "   -0.0390    2.2265    2.1357 H   0  0  0  0  0  0  0  0  0  0  0  0\n",
      "    2.9089    3.8763    2.3839 C   0  0  0  0  0  0  0  0  0  0  0  0\n",
      "    2.0441    3.3975    1.3991 C   0  0  0  0  0  0  0  0  0  0  0  0\n",
      "    2.3583    2.2301    0.7023 C   0  0  0  0  0  0  0  0  0  0  0  0\n",
      "    3.5373    1.5415    0.9903 C   0  0  0  0  0  0  0  0  0  0  0  0\n",
      "    4.4021    2.0203    1.9752 C   0  0  0  0  0  0  0  0  0  0  0  0\n",
      "    4.0879    3.1877    2.6720 C   0  0  0  0  0  0  0  0  0  0  0  0\n",
      "    2.6617    4.7949    2.9322 H   0  0  0  0  0  0  0  0  0  0  0  0\n",
      "    1.1164    3.9393    1.1724 H   0  0  0  0  0  0  0  0  0  0  0  0\n",
      "    1.6778    1.8533   -0.0727 H   0  0  0  0  0  0  0  0  0  0  0  0\n",
      "    3.7845    0.6229    0.4420 H   0  0  0  0  0  0  0  0  0  0  0  0\n",
      "    5.3298    1.4785    2.2019 H   0  0  0  0  0  0  0  0  0  0  0  0\n",
      "    4.7684    3.5645    3.4470 H   0  0  0  0  0  0  0  0  0  0  0  0\n",
      "  1  2  2  0\n",
      "  2  3  1  0\n",
      "  3  4  1  0\n",
      "  4  6  1  0\n",
      "  4  8  1  0\n",
      "  4  7  1  0\n",
      "  5  3  1  0\n",
      "  5 10  1  0\n",
      "  9  5  1  0\n",
      " 11  5  1  0\n",
      " 12 17  2  0\n",
      " 12 18  1  0\n",
      " 13 12  1  0\n",
      " 14 15  1  0\n",
      " 14 13  2  0\n",
      " 15 16  2  0\n",
      " 16 22  1  0\n",
      " 16 17  1  0\n",
      " 17 23  1  0\n",
      " 19 13  1  0\n",
      " 20 14  1  0\n",
      " 21 15  1  0\n",
      "M  END\n",
      "\n"
     ]
    }
   ],
   "source": [
    "print(Chem.MolToMolBlock(mw))   \n",
    "\n",
    "f = open(\"nohs.mol\", \"w\")\n",
    "f.write(Chem.MolToMolBlock(mw))\n",
    "f.close()"
   ]
  },
  {
   "cell_type": "code",
   "execution_count": null,
   "metadata": {},
   "outputs": [],
   "source": [
    "# 5/2/2024\n",
    "# Checking if it's only CNOPS\n",
    "''' \n",
    "it takes all the Hs that could be removed, it records the 1st connection and the neighbor's connections\n",
    "takes as input a Mol RDkit object of a molecule, returns a list of broken xyzs with respective parameters\n",
    "'''\n",
    "# checking if dimer is only made of CNOPS and H\n",
    "if len(m.GetAtoms()) == len([a.GetSymbol() for a in m.GetAtoms() if a.GetSymbol() in 'CNOPSH' ]):\n",
    "    \n",
    "newxyzs = []\n",
    "for atom in m.GetAtoms():\n",
    "    if atom.GetSymbol() == 'H':\n",
    "        h = atom.GetIdx()\n",
    "        ns = atom.GetNeighbors()\n",
    "        if len(ns) > 1: # if not outside\n",
    "            continue\n",
    "        else:\n",
    "            for n in ns:\n",
    "                if n.GetSymbol() in 'CNOPS':\n",
    "                    organic = n.GetIdx()\n",
    "                    neighbors =  [n.GetSymbol() for n in n.GetNeighbors()] \n",
    "                    # removing atom to create mol \n",
    "                    mw = Chem.RWMol(m)\n",
    "                    mw.RemoveAtom(h)\n",
    "                    xyz_reduced = Chem.MolToXYZBlock(mw)\n",
    "                    xyz = Chem.MolToXYZBlock(m)\n",
    "                    newxyzs.append([item , xyz, xyz_reduced , h , n.GetSymbol() , neighbors])"
   ]
  },
  {
   "cell_type": "code",
   "execution_count": 2,
   "metadata": {},
   "outputs": [],
   "source": [
    "from rdkit import Chem\n",
    "from rdkit.Chem import rdDetermineBonds\n",
    "\n",
    "path = r\"C:\\Users\\carlo\\Dropbox\\big projects dropbox\\ml chem\\bde\\clean\\remove_hs_from_dimer\\bde_data\\CNC(=O)C_CSCSC\\qm_opt_dimer\\325366\\0.xyz\"\n",
    "raw_mol = Chem.MolFromXYZFile(path)\n",
    "mol = Chem.Mol(raw_mol)\n",
    "rdDetermineBonds.DetermineConnectivity(mol)\n",
    "m = mol"
   ]
  },
  {
   "cell_type": "code",
   "execution_count": 19,
   "metadata": {},
   "outputs": [
    {
     "name": "stdout",
     "output_type": "stream",
     "text": [
      "ok\n"
     ]
    }
   ],
   "source": [
    "# checking if dimer is only made f CNOPS and H\n",
    "if len(m.GetAtoms()) == len([a.GetSymbol() for a in m.GetAtoms() if a.GetSymbol() in 'CNOPSH' ]):\n",
    "    print('ok')"
   ]
  },
  {
   "cell_type": "code",
   "execution_count": 1,
   "metadata": {},
   "outputs": [],
   "source": [
    "import pandas as pd\n",
    "df = pd.read_csv(\"Donchev et al DES15K.csv\")\n"
   ]
  },
  {
   "cell_type": "code",
   "execution_count": 27,
   "metadata": {},
   "outputs": [
    {
     "data": {
      "text/plain": [
       "(14651, 54)"
      ]
     },
     "execution_count": 27,
     "metadata": {},
     "output_type": "execute_result"
    }
   ],
   "source": [
    "df.shape"
   ]
  },
  {
   "cell_type": "code",
   "execution_count": 2,
   "metadata": {},
   "outputs": [],
   "source": [
    "from extract_xyz import extract_xyz\n",
    "extract_xyz(df.head(200))"
   ]
  },
  {
   "cell_type": "markdown",
   "metadata": {},
   "source": [
    "# Create folder structure"
   ]
  },
  {
   "cell_type": "code",
   "execution_count": 1,
   "metadata": {},
   "outputs": [],
   "source": [
    "import pandas as pd"
   ]
  },
  {
   "cell_type": "code",
   "execution_count": 2,
   "metadata": {},
   "outputs": [],
   "source": [
    "df = pd.read_csv(\"all_xyz.csv\")"
   ]
  },
  {
   "cell_type": "code",
   "execution_count": 8,
   "metadata": {},
   "outputs": [
    {
     "data": {
      "text/plain": [
       "attached_atom\n",
       "C    0.910299\n",
       "N    0.056478\n",
       "O    0.033223\n",
       "Name: count, dtype: float64"
      ]
     },
     "execution_count": 8,
     "metadata": {},
     "output_type": "execute_result"
    }
   ],
   "source": [
    "df.attached_atom.value_counts()/len(df)"
   ]
  },
  {
   "cell_type": "code",
   "execution_count": 11,
   "metadata": {},
   "outputs": [
    {
     "data": {
      "text/plain": [
       "neighboring_atoms\n",
       "['C', 'C', 'H']         0.199336\n",
       "['S', 'H', 'H', 'H']    0.179402\n",
       "['O', 'H', 'H', 'H']    0.139535\n",
       "['N', 'H', 'H', 'H']    0.099668\n",
       "['C', 'H', 'H', 'H']    0.098007\n",
       "['S', 'S', 'H', 'H']    0.053156\n",
       "['O', 'O', 'H', 'H']    0.053156\n",
       "['O', 'C', 'H', 'H']    0.039867\n",
       "['C', 'O', 'H', 'H']    0.026578\n",
       "['C', 'N', 'H']         0.026578\n",
       "['P', 'H']              0.019934\n",
       "['C', 'H']              0.013289\n",
       "['N', 'N', 'H']         0.013289\n",
       "['N', 'C', 'H']         0.013289\n",
       "['S', 'C', 'H', 'H']    0.013289\n",
       "['O', 'N', 'H']         0.006645\n",
       "['C', 'H', 'C']         0.004983\n",
       "Name: count, dtype: float64"
      ]
     },
     "execution_count": 11,
     "metadata": {},
     "output_type": "execute_result"
    }
   ],
   "source": [
    "df.neighboring_atoms.value_counts()/len(df)"
   ]
  },
  {
   "cell_type": "code",
   "execution_count": 13,
   "metadata": {},
   "outputs": [
    {
     "data": {
      "text/html": [
       "<div>\n",
       "<style scoped>\n",
       "    .dataframe tbody tr th:only-of-type {\n",
       "        vertical-align: middle;\n",
       "    }\n",
       "\n",
       "    .dataframe tbody tr th {\n",
       "        vertical-align: top;\n",
       "    }\n",
       "\n",
       "    .dataframe thead th {\n",
       "        text-align: right;\n",
       "    }\n",
       "</style>\n",
       "<table border=\"1\" class=\"dataframe\">\n",
       "  <thead>\n",
       "    <tr style=\"text-align: right;\">\n",
       "      <th></th>\n",
       "      <th>Unnamed: 0</th>\n",
       "      <th>conformer</th>\n",
       "      <th>molecule_name</th>\n",
       "      <th>xyz</th>\n",
       "      <th>xyz_reduced</th>\n",
       "      <th>atom_index</th>\n",
       "      <th>attached_atom</th>\n",
       "      <th>neighboring_atoms</th>\n",
       "      <th>fragment</th>\n",
       "    </tr>\n",
       "  </thead>\n",
       "  <tbody>\n",
       "    <tr>\n",
       "      <th>0</th>\n",
       "      <td>0</td>\n",
       "      <td>-4.xyz</td>\n",
       "      <td>CCO_COCOC</td>\n",
       "      <td>22\\n\\nC      0.768490    0.101950   -0.223790\\...</td>\n",
       "      <td>21\\n\\nC      0.768490    0.101950   -0.223790\\...</td>\n",
       "      <td>3</td>\n",
       "      <td>C</td>\n",
       "      <td>['C', 'H', 'H', 'H']</td>\n",
       "      <td>&lt;rdkit.Chem.rdchem.Mol object at 0x00000290EF0...</td>\n",
       "    </tr>\n",
       "    <tr>\n",
       "      <th>1</th>\n",
       "      <td>1</td>\n",
       "      <td>-4.xyz</td>\n",
       "      <td>CCO_COCOC</td>\n",
       "      <td>22\\n\\nC      0.768490    0.101950   -0.223790\\...</td>\n",
       "      <td>21\\n\\nC      0.768490    0.101950   -0.223790\\...</td>\n",
       "      <td>4</td>\n",
       "      <td>C</td>\n",
       "      <td>['C', 'H', 'H', 'H']</td>\n",
       "      <td>&lt;rdkit.Chem.rdchem.Mol object at 0x00000290EF0...</td>\n",
       "    </tr>\n",
       "    <tr>\n",
       "      <th>2</th>\n",
       "      <td>2</td>\n",
       "      <td>-4.xyz</td>\n",
       "      <td>CCO_COCOC</td>\n",
       "      <td>22\\n\\nC      0.768490    0.101950   -0.223790\\...</td>\n",
       "      <td>21\\n\\nC      0.768490    0.101950   -0.223790\\...</td>\n",
       "      <td>5</td>\n",
       "      <td>C</td>\n",
       "      <td>['C', 'H', 'H', 'H']</td>\n",
       "      <td>&lt;rdkit.Chem.rdchem.Mol object at 0x00000290EF0...</td>\n",
       "    </tr>\n",
       "    <tr>\n",
       "      <th>3</th>\n",
       "      <td>3</td>\n",
       "      <td>-4.xyz</td>\n",
       "      <td>CCO_COCOC</td>\n",
       "      <td>22\\n\\nC      0.768490    0.101950   -0.223790\\...</td>\n",
       "      <td>21\\n\\nC      0.768490    0.101950   -0.223790\\...</td>\n",
       "      <td>6</td>\n",
       "      <td>C</td>\n",
       "      <td>['C', 'O', 'H', 'H']</td>\n",
       "      <td>&lt;rdkit.Chem.rdchem.Mol object at 0x00000290EF0...</td>\n",
       "    </tr>\n",
       "    <tr>\n",
       "      <th>4</th>\n",
       "      <td>4</td>\n",
       "      <td>-4.xyz</td>\n",
       "      <td>CCO_COCOC</td>\n",
       "      <td>22\\n\\nC      0.768490    0.101950   -0.223790\\...</td>\n",
       "      <td>21\\n\\nC      0.768490    0.101950   -0.223790\\...</td>\n",
       "      <td>7</td>\n",
       "      <td>C</td>\n",
       "      <td>['C', 'O', 'H', 'H']</td>\n",
       "      <td>&lt;rdkit.Chem.rdchem.Mol object at 0x00000290EF0...</td>\n",
       "    </tr>\n",
       "    <tr>\n",
       "      <th>...</th>\n",
       "      <td>...</td>\n",
       "      <td>...</td>\n",
       "      <td>...</td>\n",
       "      <td>...</td>\n",
       "      <td>...</td>\n",
       "      <td>...</td>\n",
       "      <td>...</td>\n",
       "      <td>...</td>\n",
       "      <td>...</td>\n",
       "    </tr>\n",
       "    <tr>\n",
       "      <th>597</th>\n",
       "      <td>597</td>\n",
       "      <td>11.xyz</td>\n",
       "      <td>OP(=O)(O)O_c1ccccc1</td>\n",
       "      <td>20\\n\\nO      1.895480    4.790530   -1.263600\\...</td>\n",
       "      <td>19\\n\\nO      1.895480    4.790530   -1.263600\\...</td>\n",
       "      <td>15</td>\n",
       "      <td>C</td>\n",
       "      <td>['C', 'C', 'H']</td>\n",
       "      <td>&lt;rdkit.Chem.rdchem.Mol object at 0x00000290EF0...</td>\n",
       "    </tr>\n",
       "    <tr>\n",
       "      <th>598</th>\n",
       "      <td>598</td>\n",
       "      <td>11.xyz</td>\n",
       "      <td>OP(=O)(O)O_c1ccccc1</td>\n",
       "      <td>20\\n\\nO      1.895480    4.790530   -1.263600\\...</td>\n",
       "      <td>19\\n\\nO      1.895480    4.790530   -1.263600\\...</td>\n",
       "      <td>16</td>\n",
       "      <td>C</td>\n",
       "      <td>['C', 'C', 'H']</td>\n",
       "      <td>&lt;rdkit.Chem.rdchem.Mol object at 0x00000290EF0...</td>\n",
       "    </tr>\n",
       "    <tr>\n",
       "      <th>599</th>\n",
       "      <td>599</td>\n",
       "      <td>11.xyz</td>\n",
       "      <td>OP(=O)(O)O_c1ccccc1</td>\n",
       "      <td>20\\n\\nO      1.895480    4.790530   -1.263600\\...</td>\n",
       "      <td>19\\n\\nO      1.895480    4.790530   -1.263600\\...</td>\n",
       "      <td>17</td>\n",
       "      <td>C</td>\n",
       "      <td>['C', 'C', 'H']</td>\n",
       "      <td>&lt;rdkit.Chem.rdchem.Mol object at 0x00000290EF0...</td>\n",
       "    </tr>\n",
       "    <tr>\n",
       "      <th>600</th>\n",
       "      <td>600</td>\n",
       "      <td>11.xyz</td>\n",
       "      <td>OP(=O)(O)O_c1ccccc1</td>\n",
       "      <td>20\\n\\nO      1.895480    4.790530   -1.263600\\...</td>\n",
       "      <td>19\\n\\nO      1.895480    4.790530   -1.263600\\...</td>\n",
       "      <td>18</td>\n",
       "      <td>C</td>\n",
       "      <td>['C', 'C', 'H']</td>\n",
       "      <td>&lt;rdkit.Chem.rdchem.Mol object at 0x00000290EF0...</td>\n",
       "    </tr>\n",
       "    <tr>\n",
       "      <th>601</th>\n",
       "      <td>601</td>\n",
       "      <td>11.xyz</td>\n",
       "      <td>OP(=O)(O)O_c1ccccc1</td>\n",
       "      <td>20\\n\\nO      1.895480    4.790530   -1.263600\\...</td>\n",
       "      <td>19\\n\\nO      1.895480    4.790530   -1.263600\\...</td>\n",
       "      <td>19</td>\n",
       "      <td>C</td>\n",
       "      <td>['C', 'C', 'H']</td>\n",
       "      <td>&lt;rdkit.Chem.rdchem.Mol object at 0x00000290EF0...</td>\n",
       "    </tr>\n",
       "  </tbody>\n",
       "</table>\n",
       "<p>602 rows × 9 columns</p>\n",
       "</div>"
      ],
      "text/plain": [
       "     Unnamed: 0 conformer        molecule_name  \\\n",
       "0             0    -4.xyz            CCO_COCOC   \n",
       "1             1    -4.xyz            CCO_COCOC   \n",
       "2             2    -4.xyz            CCO_COCOC   \n",
       "3             3    -4.xyz            CCO_COCOC   \n",
       "4             4    -4.xyz            CCO_COCOC   \n",
       "..          ...       ...                  ...   \n",
       "597         597    11.xyz  OP(=O)(O)O_c1ccccc1   \n",
       "598         598    11.xyz  OP(=O)(O)O_c1ccccc1   \n",
       "599         599    11.xyz  OP(=O)(O)O_c1ccccc1   \n",
       "600         600    11.xyz  OP(=O)(O)O_c1ccccc1   \n",
       "601         601    11.xyz  OP(=O)(O)O_c1ccccc1   \n",
       "\n",
       "                                                   xyz  \\\n",
       "0    22\\n\\nC      0.768490    0.101950   -0.223790\\...   \n",
       "1    22\\n\\nC      0.768490    0.101950   -0.223790\\...   \n",
       "2    22\\n\\nC      0.768490    0.101950   -0.223790\\...   \n",
       "3    22\\n\\nC      0.768490    0.101950   -0.223790\\...   \n",
       "4    22\\n\\nC      0.768490    0.101950   -0.223790\\...   \n",
       "..                                                 ...   \n",
       "597  20\\n\\nO      1.895480    4.790530   -1.263600\\...   \n",
       "598  20\\n\\nO      1.895480    4.790530   -1.263600\\...   \n",
       "599  20\\n\\nO      1.895480    4.790530   -1.263600\\...   \n",
       "600  20\\n\\nO      1.895480    4.790530   -1.263600\\...   \n",
       "601  20\\n\\nO      1.895480    4.790530   -1.263600\\...   \n",
       "\n",
       "                                           xyz_reduced  atom_index  \\\n",
       "0    21\\n\\nC      0.768490    0.101950   -0.223790\\...           3   \n",
       "1    21\\n\\nC      0.768490    0.101950   -0.223790\\...           4   \n",
       "2    21\\n\\nC      0.768490    0.101950   -0.223790\\...           5   \n",
       "3    21\\n\\nC      0.768490    0.101950   -0.223790\\...           6   \n",
       "4    21\\n\\nC      0.768490    0.101950   -0.223790\\...           7   \n",
       "..                                                 ...         ...   \n",
       "597  19\\n\\nO      1.895480    4.790530   -1.263600\\...          15   \n",
       "598  19\\n\\nO      1.895480    4.790530   -1.263600\\...          16   \n",
       "599  19\\n\\nO      1.895480    4.790530   -1.263600\\...          17   \n",
       "600  19\\n\\nO      1.895480    4.790530   -1.263600\\...          18   \n",
       "601  19\\n\\nO      1.895480    4.790530   -1.263600\\...          19   \n",
       "\n",
       "    attached_atom     neighboring_atoms  \\\n",
       "0               C  ['C', 'H', 'H', 'H']   \n",
       "1               C  ['C', 'H', 'H', 'H']   \n",
       "2               C  ['C', 'H', 'H', 'H']   \n",
       "3               C  ['C', 'O', 'H', 'H']   \n",
       "4               C  ['C', 'O', 'H', 'H']   \n",
       "..            ...                   ...   \n",
       "597             C       ['C', 'C', 'H']   \n",
       "598             C       ['C', 'C', 'H']   \n",
       "599             C       ['C', 'C', 'H']   \n",
       "600             C       ['C', 'C', 'H']   \n",
       "601             C       ['C', 'C', 'H']   \n",
       "\n",
       "                                              fragment  \n",
       "0    <rdkit.Chem.rdchem.Mol object at 0x00000290EF0...  \n",
       "1    <rdkit.Chem.rdchem.Mol object at 0x00000290EF0...  \n",
       "2    <rdkit.Chem.rdchem.Mol object at 0x00000290EF0...  \n",
       "3    <rdkit.Chem.rdchem.Mol object at 0x00000290EF0...  \n",
       "4    <rdkit.Chem.rdchem.Mol object at 0x00000290EF0...  \n",
       "..                                                 ...  \n",
       "597  <rdkit.Chem.rdchem.Mol object at 0x00000290EF0...  \n",
       "598  <rdkit.Chem.rdchem.Mol object at 0x00000290EF0...  \n",
       "599  <rdkit.Chem.rdchem.Mol object at 0x00000290EF0...  \n",
       "600  <rdkit.Chem.rdchem.Mol object at 0x00000290EF0...  \n",
       "601  <rdkit.Chem.rdchem.Mol object at 0x00000290EF0...  \n",
       "\n",
       "[602 rows x 9 columns]"
      ]
     },
     "execution_count": 13,
     "metadata": {},
     "output_type": "execute_result"
    }
   ],
   "source": [
    "df"
   ]
  },
  {
   "cell_type": "code",
   "execution_count": 11,
   "metadata": {},
   "outputs": [],
   "source": [
    "import pandas as pd\n",
    "import os\n",
    "\n",
    "def writexyz(content, path_and_name):\n",
    "    f = open(path_and_name, \"w\")\n",
    "    f.write(content)\n",
    "    f.close()\n",
    "\n",
    "def folders_from_csv(path = \"all_xyz.csv\"):\n",
    "    df = pd.read_csv(path)\n",
    "    df = df.head(100)\n",
    "    latest_molecule = \"\"\n",
    "    latest_conformer = \"\"\n",
    "    for x in df.values:\n",
    "        if x[2] != latest_molecule:\n",
    "            os.mkdir(x[2])\n",
    "        # if change in molecule or confermer I create new conformer folder (eg if confrmer is same but molecule if different)\n",
    "        if \"c_\" + str(x[1]).split('.')[0] != latest_conformer or x[2] != latest_molecule:\n",
    "            fdr = \"c_\" + str(x[1]).split('.')[0]\n",
    "            os.mkdir(f\"{x[2]}/{fdr}\")\n",
    "            writexyz(x[3], f\"{x[2]}/{fdr}/original.xyz\")\n",
    "        latest_conformer = \"c_\" + str(x[1]).split('.')[0]\n",
    "        latest_molecule = x[2]\n",
    "        writexyz(x[4], f\"{latest_molecule}/{latest_conformer}/{x[5]}.xyz\")\n",
    "    return 0\n"
   ]
  },
  {
   "cell_type": "code",
   "execution_count": 12,
   "metadata": {},
   "outputs": [
    {
     "data": {
      "text/plain": [
       "0"
      ]
     },
     "execution_count": 12,
     "metadata": {},
     "output_type": "execute_result"
    }
   ],
   "source": [
    "folders_from_csv()"
   ]
  },
  {
   "cell_type": "code",
   "execution_count": 7,
   "metadata": {},
   "outputs": [],
   "source": [
    "import os\n",
    "# os.mkdir('hey')\n",
    "\n"
   ]
  },
  {
   "cell_type": "code",
   "execution_count": 9,
   "metadata": {},
   "outputs": [
    {
     "ename": "FileNotFoundError",
     "evalue": "[WinError 3] The system cannot find the path specified: 'CCO_/c_-4'",
     "output_type": "error",
     "traceback": [
      "\u001b[1;31m---------------------------------------------------------------------------\u001b[0m",
      "\u001b[1;31mFileNotFoundError\u001b[0m                         Traceback (most recent call last)",
      "Input \u001b[1;32mIn [9]\u001b[0m, in \u001b[0;36m<cell line: 1>\u001b[1;34m()\u001b[0m\n\u001b[1;32m----> 1\u001b[0m \u001b[43mos\u001b[49m\u001b[38;5;241;43m.\u001b[39;49m\u001b[43mmkdir\u001b[49m\u001b[43m(\u001b[49m\u001b[38;5;124;43m\"\u001b[39;49m\u001b[38;5;124;43mCCO_/c_-4\u001b[39;49m\u001b[38;5;124;43m\"\u001b[39;49m\u001b[43m)\u001b[49m\n",
      "\u001b[1;31mFileNotFoundError\u001b[0m: [WinError 3] The system cannot find the path specified: 'CCO_/c_-4'"
     ]
    }
   ],
   "source": [
    "os.mkdir(\"CCO_COCOC/c_-4\")"
   ]
  },
  {
   "cell_type": "code",
   "execution_count": 10,
   "metadata": {},
   "outputs": [],
   "source": [
    "writexyz(\"yooo\", \"CCO_COCOC/c_-4/original.xyz\")"
   ]
  },
  {
   "cell_type": "code",
   "execution_count": null,
   "metadata": {},
   "outputs": [],
   "source": []
  },
  {
   "cell_type": "markdown",
   "metadata": {},
   "source": [
    "# Only keeping unique "
   ]
  },
  {
   "cell_type": "code",
   "execution_count": 61,
   "metadata": {},
   "outputs": [],
   "source": [
    "\n",
    "\n",
    "abs1 = ['conformer', 'item' , 'xyz' , 'xyz_reduced',  'h' , \n",
    "                       '1sta' , 'neighborsa', 'fragment']\n",
    "\n",
    "abs1b = ['conformer', 'item' , 'xyz' , 'xyz_reduced',  'h' , \n",
    "                       '1sta' , 'neighborsa', '*']\n",
    "\n",
    "abs2 = ['conformer', 'item' , 'xyz' , 'xyz_reduced',  'h' , \n",
    "                       '1stb' , 'neighborsb', 'fragment']\n",
    "\n",
    "abs2b = ['conformer', 'item' , 'xyz' , 'xyz_reduced',  'h' , \n",
    "                       '1stb' , 'neighborsb', '*']\n",
    "\n",
    "abs3 = ['conformer', 'item' , 'xyz' , 'xyz_reduced',  'h' , \n",
    "                       '1stb' , 'neighborsc', 'fragment']\n",
    "\n",
    "abs3b = ['conformer', 'item' , 'xyz' , 'xyz_reduced',  'h' , \n",
    "                       '1stb' , 'neighborsc', '*']"
   ]
  },
  {
   "cell_type": "code",
   "execution_count": 2,
   "metadata": {},
   "outputs": [],
   "source": [
    "import pandas as pd\n",
    "# all_abs = [abs1, abs1b, abs1, abs2, abs2b, abs3, abs3b, abs1, abs2, abs1]"
   ]
  },
  {
   "cell_type": "code",
   "execution_count": null,
   "metadata": {},
   "outputs": [
    {
     "data": {
      "text/html": [
       "<div>\n",
       "<style scoped>\n",
       "    .dataframe tbody tr th:only-of-type {\n",
       "        vertical-align: middle;\n",
       "    }\n",
       "\n",
       "    .dataframe tbody tr th {\n",
       "        vertical-align: top;\n",
       "    }\n",
       "\n",
       "    .dataframe thead th {\n",
       "        text-align: right;\n",
       "    }\n",
       "</style>\n",
       "<table border=\"1\" class=\"dataframe\">\n",
       "  <thead>\n",
       "    <tr style=\"text-align: right;\">\n",
       "      <th></th>\n",
       "      <th>conformer</th>\n",
       "      <th>item</th>\n",
       "      <th>xyz</th>\n",
       "      <th>xyz_reduced</th>\n",
       "      <th>h</th>\n",
       "      <th>1sta</th>\n",
       "      <th>neighborsa</th>\n",
       "      <th>fragment</th>\n",
       "    </tr>\n",
       "  </thead>\n",
       "  <tbody>\n",
       "    <tr>\n",
       "      <th>0</th>\n",
       "      <td>conformer</td>\n",
       "      <td>item</td>\n",
       "      <td>xyz</td>\n",
       "      <td>xyz_reduced</td>\n",
       "      <td>h</td>\n",
       "      <td>1sta</td>\n",
       "      <td>neighborsa</td>\n",
       "      <td>fragment</td>\n",
       "    </tr>\n",
       "    <tr>\n",
       "      <th>1</th>\n",
       "      <td>conformer</td>\n",
       "      <td>item</td>\n",
       "      <td>xyz</td>\n",
       "      <td>xyz_reduced</td>\n",
       "      <td>h</td>\n",
       "      <td>1stb</td>\n",
       "      <td>neighborsb</td>\n",
       "      <td>*</td>\n",
       "    </tr>\n",
       "    <tr>\n",
       "      <th>2</th>\n",
       "      <td>conformer</td>\n",
       "      <td>item</td>\n",
       "      <td>xyz</td>\n",
       "      <td>xyz_reduced</td>\n",
       "      <td>h</td>\n",
       "      <td>1stb</td>\n",
       "      <td>neighborsc</td>\n",
       "      <td>*</td>\n",
       "    </tr>\n",
       "  </tbody>\n",
       "</table>\n",
       "</div>"
      ],
      "text/plain": [
       "   conformer  item  xyz  xyz_reduced  h  1sta  neighborsa  fragment\n",
       "0  conformer  item  xyz  xyz_reduced  h  1sta  neighborsa  fragment\n",
       "1  conformer  item  xyz  xyz_reduced  h  1stb  neighborsb         *\n",
       "2  conformer  item  xyz  xyz_reduced  h  1stb  neighborsc         *"
      ]
     },
     "execution_count": 63,
     "metadata": {},
     "output_type": "execute_result"
    }
   ],
   "source": [
    "all_abs = pd.DataFrame(all_abs, columns = ['conformer', 'item' , 'xyz' , 'xyz_reduced',  'h' , \n",
    "                       '1st' , 'neighbors', 'fragment'])\n",
    "\n",
    "all_abs = all_abs.groupby(['1st', 'neighbors']).apply(lambda x: x.sample(1)).reset_index(drop=True)\n",
    "all_abs = [list(x) for x in all_abs.values]"
   ]
  },
  {
   "cell_type": "code",
   "execution_count": 70,
   "metadata": {},
   "outputs": [],
   "source": [
    "# check how much they are reduced"
   ]
  },
  {
   "cell_type": "code",
   "execution_count": 95,
   "metadata": {},
   "outputs": [
    {
     "data": {
      "text/plain": [
       "(907, 9)"
      ]
     },
     "execution_count": 95,
     "metadata": {},
     "output_type": "execute_result"
    }
   ],
   "source": [
    "df = pd.read_csv(\"all_xyz.csv\")\n",
    "df.shape"
   ]
  },
  {
   "cell_type": "code",
   "execution_count": 94,
   "metadata": {},
   "outputs": [
    {
     "data": {
      "text/plain": [
       "(264, 9)"
      ]
     },
     "execution_count": 94,
     "metadata": {},
     "output_type": "execute_result"
    }
   ],
   "source": [
    "df = pd.read_csv(\"all_xyz.csv\")\n",
    "df.shape"
   ]
  },
  {
   "cell_type": "code",
   "execution_count": null,
   "metadata": {},
   "outputs": [],
   "source": [
    "cwd = os.getcwd()\n"
   ]
  },
  {
   "cell_type": "code",
   "execution_count": 3,
   "metadata": {},
   "outputs": [],
   "source": [
    "df = pd.read_csv(\"Donchev et al DES15K.csv\")\n"
   ]
  },
  {
   "cell_type": "code",
   "execution_count": 107,
   "metadata": {},
   "outputs": [],
   "source": [
    "os.chdir(r\"C:\\Users\\carlo\\Dropbox\\big projects dropbox\\ml chem\\bde\\clean\\remove_hs_from_dimer\\bde_data\")"
   ]
  },
  {
   "cell_type": "code",
   "execution_count": 4,
   "metadata": {},
   "outputs": [],
   "source": [
    "extract_xyz(df[:100])"
   ]
  },
  {
   "cell_type": "code",
   "execution_count": 1,
   "metadata": {},
   "outputs": [],
   "source": [
    "from extract_xyz import extract_xyz"
   ]
  },
  {
   "cell_type": "code",
   "execution_count": 100,
   "metadata": {},
   "outputs": [
    {
     "data": {
      "text/plain": [
       "'c:\\\\Users\\\\carlo\\\\Dropbox\\\\big projects dropbox\\\\ml chem\\\\bde\\\\clean\\\\remove_hs_from_dimer\\\\bde_data'"
      ]
     },
     "execution_count": 100,
     "metadata": {},
     "output_type": "execute_result"
    }
   ],
   "source": [
    "cwd = os.getcwd()\n",
    "items = os.listdir()\n",
    "cwd"
   ]
  },
  {
   "cell_type": "code",
   "execution_count": 97,
   "metadata": {},
   "outputs": [],
   "source": [
    "import os"
   ]
  },
  {
   "cell_type": "code",
   "execution_count": 102,
   "metadata": {},
   "outputs": [],
   "source": [
    "os.chdir(\"xyzs\")"
   ]
  },
  {
   "cell_type": "code",
   "execution_count": 103,
   "metadata": {},
   "outputs": [
    {
     "data": {
      "text/plain": [
       "'c:\\\\Users\\\\carlo\\\\Dropbox\\\\big projects dropbox\\\\ml chem\\\\bde\\\\clean\\\\remove_hs_from_dimer\\\\bde_data\\\\xyzs'"
      ]
     },
     "execution_count": 103,
     "metadata": {},
     "output_type": "execute_result"
    }
   ],
   "source": [
    "os.getcwd()"
   ]
  },
  {
   "cell_type": "code",
   "execution_count": null,
   "metadata": {},
   "outputs": [],
   "source": []
  }
 ],
 "metadata": {
  "kernelspec": {
   "display_name": "mlchem2",
   "language": "python",
   "name": "python3"
  },
  "language_info": {
   "codemirror_mode": {
    "name": "ipython",
    "version": 3
   },
   "file_extension": ".py",
   "mimetype": "text/x-python",
   "name": "python",
   "nbconvert_exporter": "python",
   "pygments_lexer": "ipython3",
   "version": "3.9.16"
  }
 },
 "nbformat": 4,
 "nbformat_minor": 2
}
